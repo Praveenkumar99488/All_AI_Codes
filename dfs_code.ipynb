{
 "cells": [
  {
   "cell_type": "code",
   "execution_count": 2,
   "id": "1ba5ea8a",
   "metadata": {},
   "outputs": [
    {
     "name": "stdout",
     "output_type": "stream",
     "text": [
      "{'u': 'WHITE', 'v': 'WHITE', 'w': 'WHITE', 'x': 'WHITE', 'y': 'WHITE', 'z': 'WHITE'}\n",
      "{'u': None, 'v': None, 'w': None, 'x': None, 'y': None, 'z': None}\n",
      "Discovery Times: {'u': 1, 'v': 2, 'y': 3, 'x': 4, 'w': 9, 'z': 10}\n",
      "Finish Times: {'x': 5, 'y': 6, 'v': 7, 'u': 8, 'z': 11, 'w': 12}\n",
      "Parents: {'u': None, 'v': 'u', 'w': None, 'x': 'y', 'y': 'v', 'z': 'w'}\n"
     ]
    }
   ],
   "source": [
    "graph = {\n",
    "    'u': ['v', 'x'],\n",
    "    'v': ['y'],\n",
    "    'w': ['y', 'z'],\n",
    "    'x': ['v'],\n",
    "    'y': ['x'],\n",
    "    'z': ['z'] \n",
    "}\n",
    "time = 0\n",
    "color = {}\n",
    "parent = {}\n",
    "discovery = {}\n",
    "finish = {}\n",
    "for u in graph:\n",
    "        color[u] = \"WHITE\"   # Unvisited\n",
    "        parent[u] = None\n",
    "\n",
    "time = 0\n",
    "print(color)\n",
    "print(parent)\n",
    "def DFS(G):\n",
    "    \"\"\"\n",
    "    Runs Depth-First Search on graph G.\n",
    "    Initializes all vertices, then calls DFS-VISIT on unvisited ones.\n",
    "    \"\"\"\n",
    "    global time, color, parent, discovery, finish\n",
    "\n",
    "    # Initialize all vertices\n",
    "    for u in G:\n",
    "        color[u] = \"WHITE\"   # Unvisited\n",
    "        parent[u] = None\n",
    "\n",
    "    time = 0\n",
    "\n",
    "    # Perform DFS on each unvisited node\n",
    "    for u in G:\n",
    "        if color[u] == \"WHITE\":\n",
    "            DFS_VISIT(G, u)\n",
    "        \n",
    "def DFS_VISIT(G, u):\n",
    "    \"\"\"\n",
    "    Visits a vertex u in DFS.\n",
    "    Tracks discovery time, finish time, and parent relationships.\n",
    "    \"\"\"\n",
    "    global time, color, parent, discovery, finish\n",
    "\n",
    "    color[u] = \"GRAY\"      # Node is discovered but not finished\n",
    "    time += 1\n",
    "    discovery[u] = time    # Discovery time\n",
    "\n",
    "    # Explore neighbors\n",
    "    for v in G[u]:\n",
    "        if color[v] == \"WHITE\":\n",
    "            parent[v] = u\n",
    "            DFS_VISIT(G, v)\n",
    "\n",
    "    color[u] = \"BLACK\"     # Finished exploring u\n",
    "    time += 1\n",
    "    finish[u] = time       # Finish time\n",
    "\n",
    "    # --- Run DFS ---\n",
    "DFS(graph)\n",
    "\n",
    "# --- Print Results ---\n",
    "print(\"Discovery Times:\", discovery)\n",
    "print(\"Finish Times:\", finish)\n",
    "print(\"Parents:\", parent)"
   ]
  },
  {
   "cell_type": "code",
   "execution_count": null,
   "id": "d2970051",
   "metadata": {},
   "outputs": [],
   "source": []
  }
 ],
 "metadata": {
  "kernelspec": {
   "display_name": "Python 3",
   "language": "python",
   "name": "python3"
  },
  "language_info": {
   "codemirror_mode": {
    "name": "ipython",
    "version": 3
   },
   "file_extension": ".py",
   "mimetype": "text/x-python",
   "name": "python",
   "nbconvert_exporter": "python",
   "pygments_lexer": "ipython3",
   "version": "3.12.10"
  }
 },
 "nbformat": 4,
 "nbformat_minor": 5
}
